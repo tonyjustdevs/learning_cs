{
 "cells": [
  {
   "cell_type": "markdown",
   "id": "176e363b",
   "metadata": {},
   "source": [
    "# OOPk\n",
    "- [1] Talking about OOP\n",
    "- [2] Building class libraries\n",
    "- [3] Storing data in fields\n",
    "- [4] Working with methods and tuples\n",
    "- [5] Controlling access with properties and indexers\n",
    "- [6] Pattern matching with objects\n",
    "- [7] Working with record types\n"
   ]
  },
  {
   "cell_type": "markdown",
   "id": "9558ac6e",
   "metadata": {},
   "source": [
    "# 1. Talking about OOP\n",
    "# 1.3 Concepts\n",
    "\n",
    "# 2. Building Class Libraries\n",
    "## 2.1 Creating A Class Library\n",
    "## 2.2.1 Understanding File-Scoped Namespaces: Classic\n",
    "## 2.2.2 File-Scoped Name Declaration:\n",
    "## 2.3 Defining A Class In A Namespace\n",
    "## 2.4 Understanding Type Access Modifiers\n",
    "## 2.5.1 Understanding Members: Fields\n",
    "## 2.5.2 Understanding Members: Methods\n",
    "## 2.6 Importing A Namespace To Use A Type\n",
    "## 2.7 Instantiating A Class\n",
    "## 2.8 Inheriting From System.Object\n",
    "## 2.9.1 Avoiding A Namespace Conflict With A `Using` Alias\n",
    "## 2.9.2 Renaming A Type With a `Using` Alias\n",
    "\n",
    "# 3. Storing Data In Fields\n",
    "## 3.1.1 Setting & Outting Field Values: General\n",
    "## 3.2.2 Setting Fields Values: Using Object Initializer Syntax\n",
    "## 3.3.1 Storing A Value: Using An Enum Type\n",
    "## 3.3.2 Storing Multiple Values: Using An Enum Type\n",
    "## 3.3.3 Changing An Enum Base Type: For Performance\n",
    "## 3.4.1 Storing Multiple Values: Using Collections\n",
    "## 3.4.2 Understanding Generic Collections\n",
    "## 3.5.1 Making A Field: Static\n",
    "## 3.5.2 Making A Field: Constant\n",
    "## 3.5.3 Making A Field: Read-Only\n",
    "## 3.5.4 Making A Field: Read-Only\n",
    "## 3.5.5 Making A Field: Required Be Set During Instantiation\n",
    "## 3.6.1 Initializing Fields: With Constructors\n",
    "## 3.6.2 Definiing: Multiple Constructors\n",
    "## 3.6.3 Setting Required Fields: With A Constructor\n",
    "\n",
    "# 4. Working with methods and tuples\n",
    "## 4.1.1 Returning Values: From Methods\n",
    "## 4.1.2 Defining & Passing Parameters: To Methods\n",
    "## 4.1.3 Overloading Methods\n",
    "## 4.1.4 Passing Optional Parameters: To Methods\n",
    "## 4.1.5 Naming Parameter Values: When Calling Methods\n",
    "## 4.2.1 Parameters: Mixing Optional & Required \n",
    "## 4.2.2 Parameters: Controlling Their Passing\n",
    "## 4.2.3 Parameters: Passing A Variable Number Of Them\n",
    "## 4.3 Understanding: `ref` returns\n",
    "## 4.4.1 Combining Multiple Returned Values: Using `Tuples`\n",
    "## 4.4.2 Naming The Fileds Of A Tuple\n",
    "## 4.4.3 Aliasing Tuples\n",
    "## 4.4.4 Descontructing Tuples\n",
    "## 4.4.5 Descontructing Other Types: Using Tuples\n",
    "## 4.5 Implementing Functionality: Using Local Functions\n",
    "## 4.6.1 Splitting Classes: Using `partial`\n",
    "## 4.6.2 Partial Methods\n",
    "\n",
    "# 5. Controlling access with properties and indexers\n",
    "## 5.1.1 Defining Read-Only Properties\n",
    "## 5.1.2 Defining Settable Properties\n",
    "## 5.1.3 Partial Properties\n",
    "## 5.2 Limited Flag Enum Values\n",
    "## 5.3 Defining Indexers\n",
    "\n",
    "# 6. Pattern matching with objects\n",
    "## 6.1 Pattern-Matching Flight Passengers\n",
    "## 6.2 Enchancements To Pattern Matching: In Modern C#\n",
    "\n",
    "# 7. Working With Record Types\n",
    "## 7.1 Defining Record Types\n",
    "## 7.2 Equality Of: Record Types\n",
    "## 7.3 Equality Of: Others Types\n",
    "## 7.4 Positional Data Members In Records\n",
    "## 7.5 Defining A Primary Constructor For A Class\n",
    "\n",
    "\n"
   ]
  },
  {
   "cell_type": "markdown",
   "id": "115fd1a4",
   "metadata": {},
   "source": [
    "# 1. OOP\n",
    "Define a **type** of object: `class`, `record`, or `struct` (ch16)\n",
    "\n",
    "# 1.1 Concepts\n",
    "\n",
    "|Concept|Definition|Examples|\n",
    "|-|-|-|\n",
    "|Encapsulation| the combination of the data &<br>actions that are related to an object|Type: `BankAccount` <br>Data: `Balance` & `AcctName`<br>Action: `Dep()` & `Withdraw()`|\n",
    "|Composition| what an object is made of|Car composed of:<br>- `Wheels`, `Seats`, `Engine`|\n",
    "|Aggregation| is about what can be **combined** with an object|`Person` is not part of a car but:<br>- Can sit in a `Seat` to become a car's `Driver`<br>- Two separate objects aggregated together to become a new component|\n",
    "|Inheritance| reusing code by having a **subclass**<br>derive from a base or superclass|`Exception` & `SqlException`|\n",
    "|Abstraction| is about capturing the core idea of an object and ignoring the details or specifics|Abstract: `Stream`<br>- Concrete Types: `FileStream` & `MemoryStream`|\n",
    "|Polymorphism| is about allowing a derived class to override an inherited action to provide custom behavior|Base: `Animal` makes_sound()<br>- `Cat` will `meow()` & `Dog` will `bark()`|"
   ]
  },
  {
   "cell_type": "markdown",
   "id": "fc18768e",
   "metadata": {},
   "source": [
    "# 2. Building Class Libraries\n",
    "Class library assemblies *group* **types** together into easily deployable units (`.DLL` files).\n",
    "\n",
    "To make code reusable across multiple projects, put into **class library assemblies**.\n",
    "\n",
    "## 2.1 Creating A Class Library\n",
    "That is, a reusable .NET class library\n",
    "\n",
    "| Update Heading |Group | From | To|Why|\n",
    "|-|-|-|-|-|\n",
    "| `<TargetFramework>`|`<Project Sdk=\"Microsoft.NET.Sdk\"><PropertyGroup>` | `net9.0`|`netstandard2.0`|- `net9.0` can only be referenced by .NET 9-compatible assemblies<br>- netstandard2.0 useable by `.NET Framework`, `Xamarin`, `modern .NET` etc|\n",
    "| `<LangVersion>`    | `<Project Sdk=\"Microsoft.NET.Sdk\"><PropertyGroup>`|`None`|`13`|This means compile this library with C3 to:<br>- use most modern compiler features|\n",
    "| `Console.System`   | `<ItemGroup>`|`None`|`<Using Include=\"System.Console\" Static=\"true\" />`|"
   ]
  },
  {
   "cell_type": "markdown",
   "id": "19dba9ad",
   "metadata": {},
   "source": []
  },
  {
   "cell_type": "markdown",
   "id": "9910c742",
   "metadata": {},
   "source": [
    "## 2.2.1 Understanding File-Scoped Namespaces: Classic\n",
    "ClsLib2_5_2_1.sln\n",
    "## 2.2.2 File-Scoped Name Declaration:\n",
    "\n",
    "\n"
   ]
  },
  {
   "cell_type": "markdown",
   "id": "0b1f6e32",
   "metadata": {},
   "source": []
  },
  {
   "cell_type": "markdown",
   "id": "63e6b724",
   "metadata": {},
   "source": [
    "## 2.3 Defining A Class In A Namespace\n"
   ]
  },
  {
   "cell_type": "markdown",
   "id": "daa322c4",
   "metadata": {},
   "source": [
    "## 2.4 Understanding Type Access Modifiers\n",
    "## 2.5.1 Members: Fields\n",
    "\n",
    "|Field Type|Description|Examples|\n",
    "|-|- |-|\n",
    "|**Constant** Fields|- Data never changes |`byte.MaxValue`<br>- Must be literal value|\n",
    "|**Read-Only** Fields|- Data cannot change after class instantiated.<br>- Data can be calculated/loaded from external source at time of instantiation|- `String.Empty` is \"\"<br>- `Guid.Empty` is a GUID (globally unique identifier) with all zeros<br>- `TimeSpan.Zero` is a time interval of zero<br>- `DateTime.MinValue` is 00:00:00.0000000 UTC, January 1, 0001 in the Gregorian calendar, and `Path.DirectorySeparatorChar` is \\ on Windows<br>- DateTime.UnixEpoch is 00:00:00.0000000 UTC, January 1, 1970|\n",
    "|**Event** Fields|Data references method(s) to execute when something happens|- A button is clicked<br>- responding to request from other code<br>- More in ch6|\n"
   ]
  },
  {
   "cell_type": "markdown",
   "id": "9163a765",
   "metadata": {},
   "source": [
    "## 2.5.2 Members: Methods\n",
    "|Field Type|Description|Examples|\n",
    "|-|-|-|\n",
    "|**Constructor** Method| Statements executed when `new` keyword used to allocated memory to instantiate a class |- asdf|\n",
    "|**Property** Method| Statements when you **get** or **set** data<br>- Properties are preferred way to ***encapsulate*** fields | e.g. `Console.ForegroundColor` set text color in cs app|\n",
    "|**Indexer** Method| Statements executed when using **array** syntax `[,]` | e.g. `mates[0]`|\n",
    "|**Operator** Method| Statements executed when operator applied | e.g. `+`, `-`, `/`, `*`|"
   ]
  },
  {
   "cell_type": "markdown",
   "id": "b6a48b34",
   "metadata": {},
   "source": [
    "## 2.6 Importing A Namespace To Use A Type\n",
    "\n",
    "### Create A Reusable .NET Class Library\n",
    "\n",
    "|Step|Description|Action|\n",
    "|-|-|-|\n",
    "|1| Add A Class Library | Template: `Class Library` -> New Project: `TPProjNet2` -> New/Existing Solution: `Ch5` | \n",
    "|2| Update `netstandard2.0` Framework| Open `TPProjNet2.csproj` -> Update `<TargetFramework>netstandard2.0</TargetFramework>`|\n",
    "|3| Update `13` Compiler Version| Open `TPProjNet2.csproj` -> Update `<LangVersion>13</LangVersion>`|\n",
    "|4| Delete `Class1.cs` Default File| Delete then `Build`|\n",
    "\n",
    "\n",
    "\n"
   ]
  },
  {
   "cell_type": "markdown",
   "id": "9e32b1bd",
   "metadata": {},
   "source": []
  },
  {
   "cell_type": "markdown",
   "id": "f18ee5b8",
   "metadata": {},
   "source": []
  },
  {
   "cell_type": "code",
   "execution_count": 7,
   "id": "3a6695c9",
   "metadata": {},
   "outputs": [
    {
     "data": {
      "text/plain": [
       "-2147483648"
      ]
     },
     "execution_count": 7,
     "metadata": {},
     "output_type": "execute_result"
    }
   ],
   "source": [
    "-2**31"
   ]
  },
  {
   "cell_type": "markdown",
   "id": "1fae5d1f",
   "metadata": {},
   "source": []
  },
  {
   "cell_type": "markdown",
   "id": "a03dda91",
   "metadata": {},
   "source": []
  },
  {
   "cell_type": "markdown",
   "id": "2287114e",
   "metadata": {},
   "source": []
  },
  {
   "cell_type": "markdown",
   "id": "33afb913",
   "metadata": {},
   "source": [
    "## 2.7 Instantiating A Class\n",
    "## 2.8 Inheriting From System.Object\n"
   ]
  },
  {
   "cell_type": "markdown",
   "id": "8ede68d4",
   "metadata": {},
   "source": [
    "## 2.9.1 Avoiding A Namespace Conflict With A `Using` Alias\n",
    "## 2.9.2 Renaming A Type With a `Using` Alias"
   ]
  },
  {
   "cell_type": "markdown",
   "id": "0b9eaac0",
   "metadata": {},
   "source": []
  },
  {
   "cell_type": "markdown",
   "id": "9554cdee",
   "metadata": {},
   "source": [
    "## 4.2.3 PassingParameters(a, in b, ref c, out d);\n",
    "- `b` is passed by **ref** but **can’t be modified**.\n",
    "- `c` is passed by **ref** and **can be modified**.\n",
    "- `d` is passed by **ref** and **will be assigned**."
   ]
  },
  {
   "cell_type": "markdown",
   "id": "1156007f",
   "metadata": {},
   "source": []
  },
  {
   "cell_type": "markdown",
   "id": "95a65342",
   "metadata": {},
   "source": []
  },
  {
   "cell_type": "markdown",
   "id": "c9a0e91b",
   "metadata": {},
   "source": []
  },
  {
   "cell_type": "markdown",
   "id": "7d40f5a7",
   "metadata": {},
   "source": []
  },
  {
   "cell_type": "markdown",
   "id": "2d4a8cc2",
   "metadata": {},
   "source": [
    "\n",
    "\n"
   ]
  },
  {
   "cell_type": "markdown",
   "id": "d52cf09c",
   "metadata": {},
   "source": []
  },
  {
   "cell_type": "markdown",
   "id": "0178258e",
   "metadata": {},
   "source": []
  },
  {
   "cell_type": "markdown",
   "id": "bac77f60",
   "metadata": {},
   "source": []
  },
  {
   "cell_type": "markdown",
   "id": "fa61d9f3",
   "metadata": {},
   "source": []
  },
  {
   "cell_type": "markdown",
   "id": "4970dea6",
   "metadata": {},
   "source": []
  },
  {
   "cell_type": "markdown",
   "id": "f359336a",
   "metadata": {},
   "source": []
  },
  {
   "cell_type": "markdown",
   "id": "bac295b9",
   "metadata": {},
   "source": []
  },
  {
   "cell_type": "markdown",
   "id": "c5a1b7f9",
   "metadata": {},
   "source": []
  },
  {
   "cell_type": "markdown",
   "id": "07774951",
   "metadata": {},
   "source": []
  },
  {
   "cell_type": "code",
   "execution_count": null,
   "id": "2963c56b",
   "metadata": {},
   "outputs": [],
   "source": []
  }
 ],
 "metadata": {
  "kernelspec": {
   "display_name": ".vevn (3.13.3)",
   "language": "python",
   "name": "python3"
  },
  "language_info": {
   "codemirror_mode": {
    "name": "ipython",
    "version": 3
   },
   "file_extension": ".py",
   "mimetype": "text/x-python",
   "name": "python",
   "nbconvert_exporter": "python",
   "pygments_lexer": "ipython3",
   "version": "3.13.3"
  }
 },
 "nbformat": 4,
 "nbformat_minor": 5
}
