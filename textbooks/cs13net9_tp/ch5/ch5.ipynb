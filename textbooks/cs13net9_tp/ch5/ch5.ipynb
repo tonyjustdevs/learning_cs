{
 "cells": [
  {
   "cell_type": "markdown",
   "id": "176e363b",
   "metadata": {},
   "source": [
    "# OOP\n",
    "- [1] Talking about OOP\n",
    "- [2] Building class libraries\n",
    "- [3] Storing data in fields\n",
    "- [4] Working with methods and tuples\n",
    "- [5] Controlling access with properties and indexers\n",
    "- [6] Pattern matching with objects\n",
    "- [7] Working with record types\n"
   ]
  },
  {
   "cell_type": "markdown",
   "id": "9558ac6e",
   "metadata": {},
   "source": [
    "# 1. Talking about OOP\n",
    "# 1.3 Concepts\n",
    "# 2. Building Class Libraries\n",
    "## 2.1 Creating A Class Library\n",
    "## 2.2 Understanding File-Scoped Namespaces\n",
    "### 2.2.1 Classic:\n",
    "### 2.2.2 File-Scoped Name Declaration:\n",
    "## 2.3 Defining A Class In A Namespace\n",
    "## 2.4 Understanding Type ACcess Modifiers\n",
    "## 2.5 Understanding Members\n",
    "## 2.6 Importing A Namespace To Use A Type\n",
    "## 2.7 Instantiating A Class\n",
    "## 2.8 Inheriting From System.Object\n",
    "## 2.9 Avoiding A Namespace Conflict With A `Using` Alias\n",
    "## 2.10 Renaming A Type With a `Using` Alias\n",
    "\n",
    "# 3. Storing Data In Fields\n",
    "## 3.1 Setting & Outting Field Values\n",
    "## 3.2 Setting Fields Values: Using Object Initializer Syntax\n",
    "## 3.3.1 Storing A Value: Using An Enum Type\n",
    "## 3.3.2 Storing Multiple Values: Using An Enum Type\n",
    "## 3.3.3 Changing An Enum Base Type: For Performance\n",
    "## 3.4.1 Storing Multiple Values: Using Collections\n",
    "## 3.4.2 Understanding Generic Collections\n",
    "## 3.5.1 Making A Field: Static\n",
    "## 3.5.2 Making A Field: Constant\n",
    "## 3.5.3 Making A Field: Read-Only\n",
    "## 3.5.4 Making A Field: Read-Only\n",
    "## 3.5.4 Making A Field: Required Be Set During Instantiation\n",
    "## 3.6.1 Initializing Fields: With Constructors\n",
    "## 3.6.2 Definiing: Multiple Constructors\n",
    "## 3.6.3 Setting Required Fields: With A Constructor\n",
    "\n",
    "# 4. Working with methods and tuples\n",
    "## 4.1 Returning Values: From Methods\n",
    "## 4.2 Defining & Passing Parameters: To Methods\n",
    "## 4.3 Overloading Methods\n",
    "## 4.4 Passing Optional Parameters: To Methods\n",
    "## 4.5 Naming Parameter Values: When Calling Methods\n",
    "## 4.6 Mixing Optional & Required Parameters\n",
    "## 4.7 Controlling How Parameters Are Passed\n",
    "## 4.7 Passing A Variable Number Of Parameters\n",
    "## 4.8 Understanding: `ref` returns\n",
    "## 4.9.1 Combining Multiple Returned Values: Using `Tuples`\n",
    "## 4.9.2 Naming The Fileds Of A Tuple\n",
    "## 4.9.3 Aliasing Tuples\n",
    "## 4.9.4 Descontructing Tuples\n",
    "## 4.9.5 Descontructing Other Types: Using Tuples\n",
    "## 4.10 Implementing Functionality: Using Local Functions\n",
    "## 4.11.1 Splitting Classes: Using `partial`\n",
    "## 4.11.2 Partial Methods\n",
    "\n",
    "# 5. Controlling access with properties and indexers\n",
    "## 5.1.1 Defining Read-Only Properties\n",
    "## 5.1.2 Defining Settable Properties\n",
    "## 5.1.3 Partial Properties\n",
    "## 5.2 Limited Flag Enum Values\n",
    "## 5.3 Defining Indexers\n",
    "\n",
    "# 6. Pattern matching with objects\n",
    "## 6.1 Pattern-Matching Flight Passengers\n",
    "## 6.2 Enchancements To Pattern Matching: In Modern C#\n",
    "\n",
    "# 7. Working With Record Types\n",
    "## 7.1 Defining Record Types\n",
    "## 7.2 Equality Of: Record Types\n",
    "## 7.3 Equality Of: Others Types\n",
    "## 7.4 Positional Data Members In Records\n",
    "## 7.5 Defining A Primary Constructor For A Class\n",
    "\n",
    "\n"
   ]
  },
  {
   "cell_type": "markdown",
   "id": "115fd1a4",
   "metadata": {},
   "source": []
  },
  {
   "cell_type": "markdown",
   "id": "0b9eaac0",
   "metadata": {},
   "source": []
  },
  {
   "cell_type": "markdown",
   "id": "9554cdee",
   "metadata": {},
   "source": []
  },
  {
   "cell_type": "markdown",
   "id": "1156007f",
   "metadata": {},
   "source": []
  },
  {
   "cell_type": "markdown",
   "id": "95a65342",
   "metadata": {},
   "source": []
  },
  {
   "cell_type": "markdown",
   "id": "c9a0e91b",
   "metadata": {},
   "source": []
  },
  {
   "cell_type": "markdown",
   "id": "7d40f5a7",
   "metadata": {},
   "source": []
  },
  {
   "cell_type": "markdown",
   "id": "2d4a8cc2",
   "metadata": {},
   "source": [
    "\n"
   ]
  },
  {
   "cell_type": "markdown",
   "id": "d52cf09c",
   "metadata": {},
   "source": []
  },
  {
   "cell_type": "markdown",
   "id": "0178258e",
   "metadata": {},
   "source": []
  },
  {
   "cell_type": "markdown",
   "id": "bac77f60",
   "metadata": {},
   "source": []
  },
  {
   "cell_type": "markdown",
   "id": "fa61d9f3",
   "metadata": {},
   "source": []
  },
  {
   "cell_type": "markdown",
   "id": "4970dea6",
   "metadata": {},
   "source": []
  },
  {
   "cell_type": "markdown",
   "id": "f359336a",
   "metadata": {},
   "source": []
  },
  {
   "cell_type": "markdown",
   "id": "bac295b9",
   "metadata": {},
   "source": []
  },
  {
   "cell_type": "markdown",
   "id": "c5a1b7f9",
   "metadata": {},
   "source": []
  },
  {
   "cell_type": "markdown",
   "id": "07774951",
   "metadata": {},
   "source": []
  },
  {
   "cell_type": "code",
   "execution_count": null,
   "id": "2963c56b",
   "metadata": {},
   "outputs": [],
   "source": []
  }
 ],
 "metadata": {
  "language_info": {
   "name": "python"
  }
 },
 "nbformat": 4,
 "nbformat_minor": 5
}
