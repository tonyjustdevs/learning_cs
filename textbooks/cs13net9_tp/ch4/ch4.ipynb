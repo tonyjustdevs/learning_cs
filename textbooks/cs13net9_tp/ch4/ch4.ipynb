{
 "cells": [
  {
   "cell_type": "markdown",
   "id": "a803fb74",
   "metadata": {},
   "source": [
    "# 1. Writing functions\n",
    "### 1.1 Exploring top-level programs, functions, and namespaces\n",
    "\n"
   ]
  },
  {
   "cell_type": "markdown",
   "id": "3bd3df45",
   "metadata": {},
   "source": [
    "### 1.1.1 Program: Top-Level Functions Example\n",
    "    using static System.Console;\n",
    "    WriteLine(\"* Top-level functions example\");\n",
    "    WhatsMyNamespace(); // Call the function.\n",
    "    void WhatsMyNamespace() // Define a local function.\n",
    "    {\n",
    "    WriteLine(\"Namespace of Program class: {0}\",\n",
    "        arg0: typeof(Program).Namespace ?? \"null\");\n",
    "    }\n"
   ]
  },
  {
   "cell_type": "code",
   "execution_count": null,
   "id": "34aee13e",
   "metadata": {},
   "outputs": [],
   "source": []
  },
  {
   "cell_type": "markdown",
   "id": "a2c7027e",
   "metadata": {},
   "source": [
    "# Z. End-of-Chapter Questions: \n",
    "\n",
    "- How do functions (written by developer) work with the automatically generated `Program` class & its `<Main>$` method"
   ]
  },
  {
   "cell_type": "markdown",
   "id": "7e8b26f2",
   "metadata": {},
   "source": [
    "### 1.2 Defining a partial Program class with a static function\n",
    "### 1.3 Times table example\n",
    "### 1.4 A brief aside about arguments and parameters\n",
    "### 1.5 Writing a function that returns a value\n",
    "### 1.6 Converting numbers from cardinal to ordinal\n",
    "### 1.7 Calculating factorials with recursion\n",
    "### 1.8 Documenting functions with XML comments\n",
    "### 1.9 Using lambdas in function implementations\n",
    "\n"
   ]
  },
  {
   "cell_type": "markdown",
   "id": "7d02ecf4",
   "metadata": {},
   "source": []
  },
  {
   "cell_type": "markdown",
   "id": "23b11ba1",
   "metadata": {},
   "source": []
  },
  {
   "cell_type": "markdown",
   "id": "85ca5904",
   "metadata": {},
   "source": []
  },
  {
   "cell_type": "markdown",
   "id": "c75de08a",
   "metadata": {},
   "source": []
  },
  {
   "cell_type": "markdown",
   "id": "7830359e",
   "metadata": {},
   "source": []
  },
  {
   "cell_type": "markdown",
   "id": "1a38936c",
   "metadata": {},
   "source": []
  },
  {
   "cell_type": "markdown",
   "id": "eccc8e71",
   "metadata": {},
   "source": []
  },
  {
   "cell_type": "markdown",
   "id": "4d364e4b",
   "metadata": {},
   "source": []
  },
  {
   "cell_type": "markdown",
   "id": "f713aaf8",
   "metadata": {},
   "source": []
  },
  {
   "cell_type": "markdown",
   "id": "65c81445",
   "metadata": {},
   "source": []
  },
  {
   "cell_type": "markdown",
   "id": "73ff5bd8",
   "metadata": {},
   "source": []
  },
  {
   "cell_type": "markdown",
   "id": "f529d5b3",
   "metadata": {},
   "source": []
  },
  {
   "cell_type": "markdown",
   "id": "eda27041",
   "metadata": {},
   "source": [
    "# 2.Debugging during development\n",
    "### 2.1 Creating code with a deliberate bug\n",
    "### 2.2 Setting a breakpoint and starting debugging\n",
    "### 2.3 Navigating with the debugging toolbar\n",
    "### 2.4 Debugging windows\n",
    "### 2.5 Stepping through code\n",
    "### 2.6 Using the VS Code integrated terminal during debugging\n",
    "### 2.7 Customizing breakpoints\n",
    "\n"
   ]
  },
  {
   "cell_type": "markdown",
   "id": "6a13d885",
   "metadata": {},
   "source": [
    "# 3. Hot reloading during development\n",
    "### 3.1 Hot reloading using Visual Studio\n",
    "### 3.2 Hot reloading using VS Code and dotnet watch\n",
    "\n"
   ]
  },
  {
   "cell_type": "markdown",
   "id": "0620e37a",
   "metadata": {},
   "source": [
    "# 4.Unit testing\n",
    "### 4.1 Understanding types of testing\n",
    "### 4.2 Creating a class library that needs testing\n",
    "### 4.3 Writing unit tests\n",
    "### 4.4 Specifying multiple parameter values\n",
    "\n"
   ]
  },
  {
   "cell_type": "markdown",
   "id": "56ac96e3",
   "metadata": {},
   "source": [
    "# 5. Throwing and catching exceptions in functions\n",
    "### 5.1 Understanding usage errors and execution errors\n",
    "### 5.2 Commonly thrown exceptions in functions\n",
    "### 5.3 Throwing exceptions using guard clauses\n",
    "### 5.4 Understanding the call stack\n",
    "### 5.5 Where to catch exceptions\n",
    "### 5.6 Rethrowing exceptions\n",
    "### 5.7 Implementing the tester-doer and try patterns"
   ]
  },
  {
   "cell_type": "markdown",
   "id": "d3ac11bb",
   "metadata": {},
   "source": [
    "# 6. Practicing and exploring\n",
    "### 6.1 Exercise 4.1 – online material\n",
    "### 6.2 Exercise 4.2 – practice exercises\n",
    "### 6.3 Exercise 4.3 – test your knowledge\n",
    "### 6.4 Exercise 4.4 – explore topics\n",
    "\n"
   ]
  },
  {
   "cell_type": "markdown",
   "id": "ebc18411",
   "metadata": {},
   "source": [
    "# 7. Summary"
   ]
  },
  {
   "cell_type": "markdown",
   "id": "49f32136",
   "metadata": {},
   "source": []
  }
 ],
 "metadata": {
  "kernelspec": {
   "display_name": ".venv",
   "language": "python",
   "name": "python3"
  },
  "language_info": {
   "codemirror_mode": {
    "name": "ipython",
    "version": 3
   },
   "file_extension": ".py",
   "mimetype": "text/x-python",
   "name": "python",
   "nbconvert_exporter": "python",
   "pygments_lexer": "ipython3",
   "version": "3.12.3"
  }
 },
 "nbformat": 4,
 "nbformat_minor": 5
}
