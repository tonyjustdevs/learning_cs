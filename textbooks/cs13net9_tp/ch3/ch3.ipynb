{
 "cells": [
  {
   "cell_type": "markdown",
   "id": "372b55e7",
   "metadata": {},
   "source": [
    "# 1. Control Flow\n",
    " \n",
    "- Operating on variables\n",
    "- Understanding selection statements\n",
    "- Understanding iteration statements\n",
    "- Storing multiple values in an array\n",
    "- Casting and converting between types\n",
    "- Handling exceptions\n",
    "- Checking for overflow\n"
   ]
  },
  {
   "cell_type": "markdown",
   "id": "044090b6",
   "metadata": {},
   "source": [
    "# 2. Operating On Variables\n",
    "## 2.1 Null-coalescing operators\n",
    "    `string? authorName = GetAuthorName();` // The maxLength variable will be the length of authorName if it is\n",
    "    `int maxLength = authorName?.Length ?? 30;` // not null, or 30 if authorName is null.\n",
    "    `authorName ??= \"unknown\";` // The authorName variable will be \"unknown\" if authorName was null.\n"
   ]
  },
  {
   "cell_type": "markdown",
   "id": "3bbe9f7c",
   "metadata": {},
   "source": [
    "# 3. Binary Shift Operators (`<<` & `>>`)\n"
   ]
  }
 ],
 "metadata": {
  "kernelspec": {
   "display_name": ".venv",
   "language": "python",
   "name": "python3"
  },
  "language_info": {
   "name": "python",
   "version": "3.12.3"
  }
 },
 "nbformat": 4,
 "nbformat_minor": 5
}
