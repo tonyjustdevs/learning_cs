{
 "cells": [
  {
   "cell_type": "markdown",
   "id": "372b55e7",
   "metadata": {},
   "source": [
    "# 1. Control Flow \n",
    "- Operating on variables\n",
    "- Understanding selection statements\n",
    "- Understanding iteration statements\n",
    "- Storing multiple values in an array\n",
    "- Casting and converting between types\n",
    "- Handling exceptions\n",
    "- Checking for overflow\n"
   ]
  }
 ],
 "metadata": {
  "kernelspec": {
   "display_name": ".venv",
   "language": "python",
   "name": "python3"
  },
  "language_info": {
   "name": "python",
   "version": "3.12.3"
  }
 },
 "nbformat": 4,
 "nbformat_minor": 5
}
