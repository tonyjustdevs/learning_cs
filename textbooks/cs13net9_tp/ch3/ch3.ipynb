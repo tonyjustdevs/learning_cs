{
 "cells": [
  {
   "cell_type": "markdown",
   "id": "372b55e7",
   "metadata": {},
   "source": [
    "# 1. Control Flow\n",
    " \n",
    "- Operating on variables\n",
    "- Understanding selection statements\n",
    "- Understanding iteration statements\n",
    "- Storing multiple values in an array\n",
    "- Casting and converting between types\n",
    "- Handling exceptions\n",
    "- Checking for overflow\n"
   ]
  },
  {
   "cell_type": "markdown",
   "id": "044090b6",
   "metadata": {},
   "source": [
    "# 2. Operating On Variables\n",
    "## 2.1 Null-coalescing operators\n",
    "    `string? authorName = GetAuthorName();` // The maxLength variable will be the length of authorName if it is\n",
    "    `int maxLength = authorName?.Length ?? 30;` // not null, or 30 if authorName is null.\n",
    "    `authorName ??= \"unknown\";` // The authorName variable will be \"unknown\" if authorName was null.\n"
   ]
  },
  {
   "cell_type": "markdown",
   "id": "3bbe9f7c",
   "metadata": {},
   "source": [
    "# 3. Binary Shift Operators (`<<` & `>>`)\n"
   ]
  },
  {
   "cell_type": "markdown",
   "id": "22a30007",
   "metadata": {},
   "source": [
    "# 4. Lists & Arrays\n",
    "# 4.1 Lists\n",
    "Dynamic, grows/shrinks automatically, and is usually preferred over arrays in modern C#.\n",
    "\n",
    "| Syntax                                                     | Works in       | Notes                                      |\n",
    "| ---------------------------------------------------------- | -------------- | ------------------------------------------ |\n",
    "| `List<string> names = new List<string>(); names.Add(...);` | All C#         | Most explicit, safe for beginners          |\n",
    "| `List<string> names = new() { \"...\" };`                    | C# 9+          | Target-typed `new`, concise                |\n",
    "| `var names = new List<string> { \"...\" };`                  | All modern C#  | Most common, concise, readable             |\n",
    "| `List<Animal> names = [...];`                              | C# 12 / .NET 8 | New literal syntax, optional, very concise |\n"
   ]
  },
  {
   "cell_type": "markdown",
   "id": "e13f2b25",
   "metadata": {},
   "source": []
  },
  {
   "cell_type": "markdown",
   "id": "23393203",
   "metadata": {},
   "source": [
    "# 4.2 Arrays\n",
    "\n",
    "| Syntax / Style                                                                                   | Works In       | Use Case / Recommendation|\n",
    "| ------------------------------------- | -------------- | ----------------------------------------------------------------------------- |\n",
    "| Step-by-step: <br>`string[] names; names = new string[4]; names[0] = \"Kate\"; ...`                | All C#         | Beginners or dynamic assignment where array size or elements are filled later |\n",
    "| Inline initialization: <br>`string[] names = new string[] { \"Kate\", \"Jack\", \"Rebecca\", \"Tom\" };` | All C#         | Arrays with known size and values at compile time; production-ready syntax    |\n",
    "| Type inference: <br>`var names = new[] { \"Kate\", \"Jack\", \"Rebecca\", \"Tom\" };`                    | C# 3+          | Quick declarations when the type is obvious                                   |\n",
    "| Explicit size: <br>`int[] numbers = new int[5];`                                                 | All C#         | Dynamic allocation where values are unknown upfront                           |\n",
    "| Array literal (C# 12): <br>`string[] names = [\"Kate\", \"Jack\", \"Rebecca\", \"Tom\"];`                | C# 12 / .NET 8 | Modern concise codebases targeting latest C#                                  |\n"
   ]
  },
  {
   "cell_type": "markdown",
   "id": "642864a8",
   "metadata": {},
   "source": [
    "# 4. Creating Object\n",
    "- Vers 1: `new Cat { AttrNm1 = ...,}`\n",
    "- Vers 2: `new Cat(AttrVal1, ....,)` via constructor\n"
   ]
  }
 ],
 "metadata": {
  "kernelspec": {
   "display_name": ".venv",
   "language": "python",
   "name": "python3"
  },
  "language_info": {
   "name": "python",
   "version": "3.12.3"
  }
 },
 "nbformat": 4,
 "nbformat_minor": 5
}
