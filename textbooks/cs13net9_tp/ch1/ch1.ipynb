{
 "cells": [
  {
   "cell_type": "markdown",
   "id": "8e63f225",
   "metadata": {},
   "source": [
    "# `C#` Notes"
   ]
  },
  {
   "cell_type": "markdown",
   "id": "3e9567ac",
   "metadata": {},
   "source": [
    "References:\n",
    "- `https://github.com/search`\n",
    "    - `dotnet/runtime`,\n",
    "    - `dotnet/core`, \n",
    "    - `dotnet/aspnetcore`, \n",
    "    - `dotnet/wpf`, and \n",
    "    - `dotnet/winforms`"
   ]
  },
  {
   "cell_type": "markdown",
   "id": "09eb7e82",
   "metadata": {},
   "source": [
    "## Terminal\n",
    "- `dotnet --list-sdks`\n",
    "- `dotnet --list-runtimes`\n",
    "- `dotnet --info`\n",
    "\n",
    "## chap1 \n",
    "- `dotnet build`\n",
    "- `dotnet clean`\n"
   ]
  },
  {
   "cell_type": "markdown",
   "id": "8f1128fd",
   "metadata": {
    "vscode": {
     "languageId": "plaintext"
    }
   },
   "source": [
    "### 1. Stateless vs Stateful Methods\n",
    "**Stateless** methods can be called **directly** from the class, whilst **Stateful** are called from the **instance** of the class"
   ]
  },
  {
   "cell_type": "markdown",
   "id": "8c8ac3f3",
   "metadata": {
    "vscode": {
     "languageId": "plaintext"
    }
   },
   "source": [
    "### 1. Numeric Format Specifiers\n",
    "\n",
    "| Specifier      | Meaning                                                                            | Example (`value = 12345.678`)                          |\n",
    "| -------------- | ---------------------------------------------------------------------------------- | ------------------------------------------------------ |\n",
    "| **C** or **c** | **Currency** → uses current culture currency symbol                                | `C2` → `$12,345.68` (2 decimals, $ depends on culture) |\n",
    "| **D** or **d** | **Decimal (integer)** → no decimal point, only whole numbers                       | `D8` → `00012345` (padded to 8 digits)                 |\n",
    "| **E** or **e** | **Exponential (scientific)**                                                       | `E2` → `1.23E+004`                                     |\n",
    "| **F** or **f** | **Fixed-point** → no thousands separator                                           | `F2` → `12345.68`                                      |\n",
    "| **G** or **g** | **General** → picks compact form (fixed-point or scientific) depending on size     | `G` → `12345.678`                                      |\n",
    "| **N** or **n** | **Number** → thousands separator + decimals                                        | `N2` → `12,345.68`                                     |\n",
    "| **P** or **p** | **Percent** → multiplies by 100 and adds `%`                                       | `P1` → `1,234,567.8 %`                                 |\n",
    "| **R** or **r** | **Round-trip** → ensures a number converted to string and back preserves its value | `R` → `12345.678`                                      |\n",
    "| **X** or **x** | **Hexadecimal** → integer only, uppercase/lowercase hex digits                     | `X` → `3039` (for 12345)                               |"
   ]
  },
  {
   "cell_type": "markdown",
   "id": "fe2ed89a",
   "metadata": {},
   "source": [
    "### 1.1 Demo\n",
    "    double value = 12345.678;\n",
    "    Console.WriteLine(value.ToString(\"C2\")); // $12,345.68\n",
    "    Console.WriteLine(value.ToString(\"D8\")); // 00012345\n",
    "    Console.WriteLine(value.ToString(\"E2\")); // 1.23E+004\n",
    "    Console.WriteLine(value.ToString(\"F1\")); // 12345.7\n",
    "    Console.WriteLine(value.ToString(\"N3\")); // 12,345.678\n",
    "    Console.WriteLine(value.ToString(\"P2\")); // 1,234,567.80 %\n",
    "    Console.WriteLine(value.ToString(\"X\"));  // 3039 (needs int)\n"
   ]
  },
  {
   "cell_type": "markdown",
   "id": "bd0dff5a",
   "metadata": {},
   "source": [
    "# Chap-1 Example\n",
    "- 1.1 Revealing the hidden code by throwing an exception\n",
    "    - add `throw new Exception();` then **Run Without Debug**\n",
    "    - Shows: \n",
    "        - hidden `Program` class was defined by the compiler, with a **method** named `<Main>$` that has a **parameter** named `args` to pass in **arguments**\n",
    "\n"
   ]
  },
  {
   "cell_type": "markdown",
   "id": "282ee1db",
   "metadata": {},
   "source": [
    "- 1.2 Revealing the namespace for the Program class\n",
    "    - `string name = typeof(Program).Namespace ?? \"<null>\";`\n",
    "    - `Console.WriteLine($\"Namespace: {name}\");`\n",
    "\n",
    "- 1.3 Adding a 2nd project\n",
    "\n",
    "| Description                       | Code                                                      |\n",
    "| ----------------------------------| --------------------------------------------------------- | \n",
    "| Output the current directory      | `Console.WriteLine(Environment.CurrentDirectory)`         |\n",
    "| Version of the operating system   | `Console.WriteLine(Environment.OSVersion.VersionString)`  |\n",
    "| Namespace of the Program class    | `Console.WriteLine(\"Namespace: {0}\",`<br>`typeof(Program).Namespace ?? \"<null>\")`|\n"
   ]
  },
  {
   "cell_type": "markdown",
   "id": "0d9038ae",
   "metadata": {},
   "source": [
    "- [Optional] 1.4 Console Apps via VS Code\n",
    "- 1.5 Compiling & Running via `dotnet` CLI\n"
   ]
  },
  {
   "cell_type": "markdown",
   "id": "969e6519",
   "metadata": {},
   "source": [
    "# MISC\n",
    "- `typeof` to find runttime type\n",
    "- `object.isValueType()`: Value type, aka struct, reps data itself aka lives in stack\n",
    "- `object.isValueType()`: Reference Type, stored in heap, variable stores a pointer or object stored somewhere else\n",
    "- `ctrl-k-i`: Method signature\n",
    "- `var` then `ctrl-i`: IDE/Compiler guesses type & see suggestion & confirm change\n",
    "- `"
   ]
  }
 ],
 "metadata": {
  "language_info": {
   "name": "python"
  }
 },
 "nbformat": 4,
 "nbformat_minor": 5
}
